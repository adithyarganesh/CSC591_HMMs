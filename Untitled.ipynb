{
 "cells": [
  {
   "cell_type": "markdown",
   "metadata": {},
   "source": [
    "# Project 5: HMMs"
   ]
  },
  {
   "cell_type": "code",
   "execution_count": null,
   "metadata": {},
   "outputs": [],
   "source": [
    "# !pip install hmmlearn"
   ]
  },
  {
   "cell_type": "code",
   "execution_count": 34,
   "metadata": {},
   "outputs": [],
   "source": [
    "# imports\n",
    "import numpy as np\n",
    "import matplotlib.pyplot as plt\n",
    "from itertools import product\n",
    "from functools import reduce\n",
    "import pandas as pd\n",
    "from collections import Counter\n",
    "from hmmlearn import hmm\n",
    "\n",
    "np.random.seed(200314659)"
   ]
  },
  {
   "cell_type": "code",
   "execution_count": 35,
   "metadata": {},
   "outputs": [],
   "source": [
    "# Generating P_ij\n",
    "\n",
    "P = np.random.random((4, 4))\n",
    "for i in range(4):\n",
    "    P[i] = P[i]/sum(P[i])   \n",
    "B = np.random.random((4, 3))\n",
    "for i in range(4):\n",
    "    B[i] = B[i]/sum(B[i])"
   ]
  },
  {
   "cell_type": "code",
   "execution_count": 36,
   "metadata": {},
   "outputs": [],
   "source": [
    "t = 1\n",
    "pi = [1,0,0,0]\n",
    "states = [1]\n",
    "q = 1\n",
    "r = np.random.choice([1,2,3,4], p=P[q-1])\n",
    "O = [np.random.choice([1,2,3], p=B[r-1])]\n",
    "\n",
    "for i in range(999):\n",
    "    q = np.random.choice([1,2,3,4])\n",
    "    r = np.random.choice([1,2,3,4], p=P[q-1])\n",
    "    O.append(np.random.choice([1,2,3], p=B[r-1]))\n",
    "    states.append(q)\n",
    "    \n",
    "# plt.plot(states, O)"
   ]
  },
  {
   "cell_type": "code",
   "execution_count": 37,
   "metadata": {},
   "outputs": [
    {
     "name": "stdout",
     "output_type": "stream",
     "text": [
      "0.016158508588046218\n"
     ]
    }
   ],
   "source": [
    "def mul(x, y): \n",
    "    return x * y\n",
    "\n",
    "P_mle = {}\n",
    "B_mle = {}\n",
    "for i, j in enumerate(map(list, zip(*P))):\n",
    "    P_mle[i+1] = j\n",
    "for i, j in enumerate(map(list, zip(*B))):\n",
    "    B_mle[i+1] = j\n",
    "\n",
    "pi = pd.DataFrame(data={1: [1], 2: [0], 3: [0], 4: [0]})\n",
    "\n",
    "\n",
    "P_mle = pd.DataFrame(data=P_mle, index=pd.Index([1,2,3,4], name='Rows'))\n",
    "B_mle = pd.DataFrame(data=B_mle, index=pd.Index([1,2,3,4], name='Rows'))\n",
    "\n",
    "# observations = [1,2,3,3,1,2,3,3,1,2,3,3]\n",
    "observations = [1,2,3,3]\n",
    "pi_states = [1,2,3,4]\n",
    "\n",
    "score = 0\n",
    "all_hmms = list(product(*(pi_states,) * len(observations)))\n",
    "\n",
    "for chain in all_hmms:\n",
    "    e_chain = list(zip(chain, [1] + list(chain)))\n",
    "    e_obser = list(zip(observations, chain))\n",
    "    p_obs = list(map(lambda x: B_mle.loc[x[1], x[0]], e_obser))\n",
    "    p_hs = list(map(lambda x: P_mle.loc[x[1], x[0]], e_chain))\n",
    "    p_hs[0] = pi[chain[0]]\n",
    "    score += reduce(mul, p_obs) * reduce(mul, p_hs)\n",
    "\n",
    "print(score[0])"
   ]
  },
  {
   "cell_type": "code",
   "execution_count": 38,
   "metadata": {},
   "outputs": [],
   "source": []
  },
  {
   "cell_type": "code",
   "execution_count": 39,
   "metadata": {},
   "outputs": [],
   "source": [
    "discrete_model = hmm.MultinomialHMM(n_components=4,\n",
    "                                    algorithm='viterbi',  # decoder algorithm.\n",
    "                                    random_state=200314659,\n",
    "                                    n_iter=10,\n",
    "                                    tol=0.01  # EM convergence threshold (gain in log-likelihood)\n",
    "                                   )"
   ]
  },
  {
   "cell_type": "code",
   "execution_count": 40,
   "metadata": {},
   "outputs": [],
   "source": [
    "discrete_model.startprob_ = np.array([1, 0, 0, 0])\n",
    "discrete_model.transmat_ = np.array(P)\n",
    "discrete_model.emissionprob_ = np.array(B)"
   ]
  },
  {
   "cell_type": "code",
   "execution_count": 45,
   "metadata": {},
   "outputs": [
    {
     "name": "stdout",
     "output_type": "stream",
     "text": [
      "Counter({2: 156, 1: 128, 3: 85, 0: 31})\n",
      "Counter({2: 182, 0: 130, 1: 88})\n"
     ]
    }
   ],
   "source": [
    "sample_obs, sample_states = discrete_model.sample(400)\n",
    "print(Counter(sample_states.flatten()))\n",
    "print(Counter(sample_obs.flatten()))"
   ]
  },
  {
   "cell_type": "code",
   "execution_count": 48,
   "metadata": {},
   "outputs": [
    {
     "name": "stdout",
     "output_type": "stream",
     "text": [
      "p([1, 2, 3, 3, 1, 2, 3, 3, 1, 2, 3, 3]) = 2.2425228886660963e-06 \n"
     ]
    }
   ],
   "source": [
    "observations = [1,2,3,3,1,2,3,3,1,2,3,3]\n",
    "oo = [i-1 for i in observations]\n",
    "obs_sequence = np.array([oo]).T\n",
    "p = np.exp(discrete_model.score(obs_sequence))\n",
    "print(\"p({}) = {} \".format([observations[i] for i in obs_sequence.T[0]], p))"
   ]
  },
  {
   "cell_type": "code",
   "execution_count": 51,
   "metadata": {},
   "outputs": [],
   "source": [
    "observations = [1,2,3,3,1,2,3,3,1,2,3]\n",
    "oo = [i-1 for i in observations]\n",
    "\n",
    "obs_sequence = np.array([oo]).T\n",
    "logprob, state_sequence = discrete_model.decode(obs_sequence)\n",
    "sequence = []\n",
    "\n",
    "for s in state_sequence:\n",
    "    sequence.append(states[int(s)])"
   ]
  },
  {
   "cell_type": "code",
   "execution_count": 53,
   "metadata": {},
   "outputs": [
    {
     "name": "stdout",
     "output_type": "stream",
     "text": [
      "For the observations:  [1, 2, 3, 3, 1, 2, 3, 3, 1, 2, 3] we get sequence:  [1, 2, 2, 2, 2, 2, 2, 2, 2, 2, 2]\n"
     ]
    }
   ],
   "source": [
    "print( \"For the observations: \", observations, \"we get sequence: \", sequence)"
   ]
  },
  {
   "cell_type": "code",
   "execution_count": null,
   "metadata": {},
   "outputs": [],
   "source": []
  }
 ],
 "metadata": {
  "kernelspec": {
   "display_name": "Python 3",
   "language": "python",
   "name": "python3"
  },
  "language_info": {
   "codemirror_mode": {
    "name": "ipython",
    "version": 3
   },
   "file_extension": ".py",
   "mimetype": "text/x-python",
   "name": "python",
   "nbconvert_exporter": "python",
   "pygments_lexer": "ipython3",
   "version": "3.8.3"
  }
 },
 "nbformat": 4,
 "nbformat_minor": 4
}
