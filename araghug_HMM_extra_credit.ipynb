{
 "cells": [
  {
   "cell_type": "markdown",
   "metadata": {},
   "source": [
    "# Extra credit\n",
    "\n",
    "Assume now that you do not know the number of states of the HMM, but you know that the number of  objects  is  3,  i.e., 𝑣=1,2,3.  Train  different  HMMs  each  with  a  different  number  of  states, starting with an HMM with two states, and for each HMM calculate the likelihood, AIC, and BIC. Plot these three quantities as a function of the number of states. Keep increasing the number of states until you begin to discern a pattern in each of the three plots. Select the best HMM. Discuss your results.Note that the number of parameters increases as the number of states increases. A rule of thumb is that for each parameter, you need at least 10 observations. As you increase the number of states, \n",
    "you may require more than 1000 observations. In this case, simply generate additional observations as described above. "
   ]
  },
  {
   "cell_type": "code",
   "execution_count": 1,
   "metadata": {},
   "outputs": [],
   "source": [
    "from hmmlearn import hmm\n",
    "import numpy as np\n",
    "import matplotlib.pyplot as plt"
   ]
  },
  {
   "cell_type": "markdown",
   "metadata": {},
   "source": [
    "Create a temporary model to generate a list of dynamic observations for the values to be fitted"
   ]
  },
  {
   "cell_type": "code",
   "execution_count": 2,
   "metadata": {},
   "outputs": [],
   "source": [
    "def create_model(states = 4):\n",
    "    P = np.random.random((states, states))\n",
    "    for i in range(states):\n",
    "        P[i] = P[i]/sum(P[i])   \n",
    "    B = np.random.random((states, 3))\n",
    "    for i in range(states):\n",
    "        B[i] = B[i]/sum(B[i])\n",
    "    pi = [1]\n",
    "    ec_model = hmm.MultinomialHMM(n_components=states, algorithm='viterbi', random_state=200314659, n_iter=10, tol=0.01)\n",
    "    ec_model.startprob_ = np.array(pi + [0]*(states-1))\n",
    "    ec_model.transmat_ = np.array(P)\n",
    "    ec_model.emissionprob_ = np.array(B)\n",
    "    return ec_model"
   ]
  },
  {
   "cell_type": "code",
   "execution_count": 3,
   "metadata": {},
   "outputs": [],
   "source": [
    "ec_model = create_model()"
   ]
  },
  {
   "cell_type": "code",
   "execution_count": 4,
   "metadata": {},
   "outputs": [
    {
     "name": "stdout",
     "output_type": "stream",
     "text": [
      "components =  18\n"
     ]
    }
   ],
   "source": [
    "\n",
    "def bic_score(LL, k, X):\n",
    "    return - 2*LL(X) + np.log(len(X))*k\n",
    "\n",
    "def aic_score(LL, k, X):\n",
    "    return -2/len(X)*LL(X) + 2*k/len(X)\n",
    "\n",
    "bic = []\n",
    "aic = []\n",
    "mle = []\n",
    "comp = -1\n",
    "for num in range(1,25):\n",
    "    model = hmm.MultinomialHMM(n_components=num, algorithm='viterbi', random_state=200314659, n_iter=10, tol=0.01)\n",
    "    model_obs, _ = ec_model.sample(40*num)\n",
    "    model.fit(model_obs)\n",
    "    mle_score = np.exp(model.score(model_obs))\n",
    "    n_features = model.n_features\n",
    "    free_parameters = 2*(num*n_features) + num*(num-1) + (num-1)\n",
    "    bic_val = bic_score(model.score, free_parameters, model_obs)\n",
    "    bic.append(bic_val)\n",
    "    aic_val = aic_score(model.score, free_parameters, model_obs)\n",
    "    aic.append(aic_val)\n",
    "    mle.append(mle_score)\n",
    "    if mle_score == 0.0 and comp != mle_score:\n",
    "        comp = num\n",
    "\n",
    "print(\"components = \", mle.index(0))"
   ]
  },
  {
   "cell_type": "code",
   "execution_count": 5,
   "metadata": {
    "scrolled": true
   },
   "outputs": [
    {
     "data": {
      "text/plain": [
       "[<matplotlib.lines.Line2D at 0x7ff490671100>]"
      ]
     },
     "execution_count": 5,
     "metadata": {},
     "output_type": "execute_result"
    },
    {
     "data": {
      "image/png": "[encoded data removed]",
      "text/plain": [
       "<Figure size 432x288 with 1 Axes>"
      ]
     },
     "metadata": {
      "needs_background": "light"
     },
     "output_type": "display_data"
    }
   ],
   "source": [
    "plt.plot(mle/sum(mle))\n"
   ]
  },
  {
   "cell_type": "markdown",
   "metadata": {},
   "source": [
    "We notice that MLE decreases closer to zero but gradually becomes zero when the number of components are 17"
   ]
  },
  {
   "cell_type": "code",
   "execution_count": 6,
   "metadata": {},
   "outputs": [
    {
     "data": {
      "text/plain": [
       "[<matplotlib.lines.Line2D at 0x7ff493bdc3d0>]"
      ]
     },
     "execution_count": 6,
     "metadata": {},
     "output_type": "execute_result"
    },
    {
     "data": {
      "image/png": "[encoded data removed]",
      "text/plain": [
       "<Figure size 432x288 with 1 Axes>"
      ]
     },
     "metadata": {
      "needs_background": "light"
     },
     "output_type": "display_data"
    }
   ],
   "source": [
    "plt.plot(aic/sum(aic))\n",
    "plt.plot(bic/sum(bic))"
   ]
  },
  {
   "cell_type": "markdown",
   "metadata": {},
   "source": [
    "AIC and BIC are normalized and plotted for analysis"
   ]
  },
  {
   "cell_type": "code",
   "execution_count": 7,
   "metadata": {},
   "outputs": [
    {
     "name": "stdout",
     "output_type": "stream",
     "text": [
      "MLE:  [6.635981121000981e-18, 4.047056435040627e-36, 1.6840513037557615e-53, 1.1057898556773402e-69, 3.5757708536861206e-87, 2.6462223948412495e-106, 1.1644117332890626e-122, 5.3516237561612305e-142, 6.090120128550802e-158, 1.1137424083534285e-175, 1.03883127267385e-190, 3.937860383408796e-209, 7.126879044970018e-226, 1.1866316433426473e-242, 1.2277101303933109e-254, 4.83763969526898e-272, 1.040228914720457e-290, 1.225994106045643e-309, 0.0, 0.0, 0.0, 0.0, 0.0, 0.0]\n",
      "AIC:  [2.2777012573252615, 2.412376838427041, 2.4585967924652534, 2.4722226441931303, 2.530507223141707, 2.6175073895479946, 2.6483083238268037, 2.7268105199029415, 2.7555654271443886, 2.809223326952358, 2.8338775971086387, 2.8952901954576955, 2.940078298460228, 2.9859088348672707, 2.9955048762293175, 3.049145994871458, 3.1109124593206836, 3.1730417825142347, 3.2244300303982465, 3.2749651128191695, 3.3277784346163837, 3.3951544495177925, 3.442550843888604, 3.4930042626173616]\n",
      "BIC  [101.24132701769409, 228.72054659427153, 367.5064004081636, 515.48740186502, 684.2105824219353, 875.3271370488001, 1068.6573949567376, 1290.8629969020499, 1512.7414939863008, 1758.332193771112, 2007.0462419334901, 2287.1033061586104, 2575.282602846885, 2879.603310186117, 3177.9388374754603, 3517.428766617888, 3879.0366636244244, 4258.247355786603, 4646.759760477566, 5051.28557691499, 5474.439355857708, 5927.387888671093, 6380.179640626211, 6852.60912364076]\n"
     ]
    }
   ],
   "source": [
    "print(\"MLE: \", mle)\n",
    "print(\"AIC: \", aic)\n",
    "print(\"BIC \", bic)"
   ]
  },
  {
   "cell_type": "markdown",
   "metadata": {},
   "source": [
    "From the analysis, we notice that as the number of components increases, the mle decreases and becomes 0 and the increase in aic is larger than bic when normalized and plotted together "
   ]
  },
  {
   "cell_type": "markdown",
   "metadata": {},
   "source": [
    "It is also mentioned in the hmmlearn documentation that the Baum-Welch Algorithm is ideal for the parameter estimation in Hidden Markov Models\n",
    "\n",
    "Finally, we can consider the stage when the MLE reaches 0 as on of the stopping criterion apart from the point when the AIC and BIC curves stabilize as points when the best model is created"
   ]
  },
  {
   "cell_type": "markdown",
   "metadata": {},
   "source": [
    "Ref:\n",
    "The free_parameters is determined by referring to https://stats.stackexchange.com/questions/12341/number-of-parameters-in-markov-model"
   ]
  }
 ],
 "metadata": {
  "kernelspec": {
   "display_name": "Python 3",
   "language": "python",
   "name": "python3"
  },
  "language_info": {
   "codemirror_mode": {
    "name": "ipython",
    "version": 3
   },
   "file_extension": ".py",
   "mimetype": "text/x-python",
   "name": "python",
   "nbconvert_exporter": "python",
   "pygments_lexer": "ipython3",
   "version": "3.8.3"
  }
 },
 "nbformat": 4,
 "nbformat_minor": 4
}
